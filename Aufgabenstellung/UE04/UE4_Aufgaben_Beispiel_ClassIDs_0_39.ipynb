{
 "cells": [
  {
   "cell_type": "markdown",
   "metadata": {},
   "source": [
    "# Uebung 4 Mehrklassenklassifikation mit Neuronalen Netzen\n",
    "Beispielsweise Vorgehnsweise fuer zwei Klassen: Klasse '0' und Klasse '39'"
   ]
  },
  {
   "cell_type": "markdown",
   "metadata": {},
   "source": [
    "## Imports"
   ]
  },
  {
   "cell_type": "code",
   "execution_count": 1,
   "metadata": {},
   "outputs": [],
   "source": [
    "import os \n",
    "import numpy as np\n",
    "import pandas as pd\n",
    "import tensorflow as tf\n",
    "import matplotlib.pyplot as plt\n",
    "\n",
    "from tensorflow import keras\n",
    "from tensorflow.keras import layers, models\n",
    "from sklearn.model_selection import train_test_split\n",
    "from sklearn.metrics import classification_report, confusion_matrix\n",
    "from tensorflow.keras.preprocessing.image import ImageDataGenerator, load_img, img_to_array"
   ]
  },
  {
   "cell_type": "markdown",
   "metadata": {},
   "source": [
    "## Globale Variablen\n",
    "Um hartcodierte Bezeichner/Namen in den Funktionen zu vermeiden, definiere an dieser Stelle alle Variablen, die global verwendet werden."
   ]
  },
  {
   "cell_type": "code",
   "execution_count": 2,
   "metadata": {},
   "outputs": [],
   "source": [
    "# Pfade zu bildern im jpg-Format\n",
    "\n",
    "# Pfad zu einem Ordner mit zwei Unterordnern: \"0\" und \"39\": die Ordnernamen entsprechen ClassIds\n",
    "# TO DO: Pfade entsprechend anpassen\n",
    "PATH_TO_TRAIN_DATA = 'path_to_folder\\im_0_39'\n",
    "PATH_TO_TEST_DATA = '.path_to_folder\\Images'\n",
    "PATH_TO_TEST_LABELS = '.path_to_folder\\GT-final_test.csv'\n",
    "\n",
    "# Prüfe, ob der Pfad existiert / korrekt eingegeben wurde\n",
    "assert os.path.exists(PATH_TO_TRAIN_DATA), \"Der PATH_TO_TRAIN_DATA-Pfad existriert nicht.\"\n",
    "assert os.path.exists(PATH_TO_TEST_DATA), \"Der PATH_TO_TEST_DATA-Pfad existriert nicht.\"\n",
    "assert os.path.exists(PATH_TO_TEST_LABELS), \"Der PATH_TO_TEST_LABELS-Pfad existriert nicht.\""
   ]
  },
  {
   "cell_type": "code",
   "execution_count": 3,
   "metadata": {},
   "outputs": [],
   "source": [
    "NUM_CLASSES = 2"
   ]
  },
  {
   "cell_type": "code",
   "execution_count": 4,
   "metadata": {},
   "outputs": [],
   "source": [
    "SAVE_DIR = os.path.join(os.getcwd(), 'saved_models')\n",
    "MODEL_NAME = 'tr_sign_model_0_39.h5'"
   ]
  },
  {
   "cell_type": "code",
   "execution_count": 5,
   "metadata": {},
   "outputs": [],
   "source": [
    "FILEPATH = os.path.join(SAVE_DIR, MODEL_NAME)"
   ]
  },
  {
   "cell_type": "markdown",
   "metadata": {},
   "source": [
    "## Datenaufbereitung\n",
    "### Training und Validation Daten\n",
    "Zur optimalen Nutzung des Arbeitsspeichers deines Rechners kannst du zum Laden von Daten die Funktion [image_dataset_from_directory](https://keras.io/api/preprocessing/image/#image_dataset_from_directory-function)  nutzen. Diese Funktion unterstuetzt jedoch nicht den ppm-Format. Daher ist fuer die Verwendung dieser Funktion die Ueberfuehrung der Daten in eins der unterstuetzten Formate ( jpeg, png, bmp, gif) notwendig.\n",
    "\n",
    "**HINWEIS**: In der TensorFlow-Version 2.1.0 und neuer ist die Funktion image_dataset_from_directory noch nicht vorhanden. Die TensorFlow-Version kann im Anaconda-Navigator gecheckt werden.\n",
    "\n",
    "Alternative [Moeglichkeiten](https://keras.io/api/preprocessing/image/): \n",
    "\n",
    "- ImageDataGenerator + flow_from_directory()\n",
    "- ImageDataGenerator + flow_from_dataframe()\n",
    "- load_img()\n",
    "- img_to_array()"
   ]
  },
  {
   "cell_type": "code",
   "execution_count": 6,
   "metadata": {},
   "outputs": [],
   "source": [
    "# target_size=(64, 64) fuer alle Bilder (optional) \n",
    "data_gen_train = ImageDataGenerator(rescale=1./255, validation_split=0.2)"
   ]
  },
  {
   "cell_type": "code",
   "execution_count": 7,
   "metadata": {},
   "outputs": [
    {
     "name": "stdout",
     "output_type": "stream",
     "text": [
      "Found 408 images belonging to 2 classes.\n",
      "Found 102 images belonging to 2 classes.\n"
     ]
    }
   ],
   "source": [
    "train_data = data_gen_train.flow_from_directory(PATH_TO_TRAIN_DATA, target_size=(64, 64), \n",
    "                                                classes=['0', '39'], seed=1,\n",
    "                                                batch_size=64, subset='training')\n",
    "valid_data = data_gen_train.flow_from_directory(PATH_TO_TRAIN_DATA, target_size=(64, 64),\n",
    "                                                classes=['0', '39'], seed=1,\n",
    "                                                batch_size=64, subset='validation')"
   ]
  },
  {
   "cell_type": "markdown",
   "metadata": {},
   "source": [
    "### Test Daten "
   ]
  },
  {
   "cell_type": "code",
   "execution_count": 8,
   "metadata": {},
   "outputs": [],
   "source": [
    "data_gen_test = ImageDataGenerator(rescale=1./255)"
   ]
  },
  {
   "cell_type": "code",
   "execution_count": 9,
   "metadata": {},
   "outputs": [],
   "source": [
    "pd_test_data = pd.read_csv(PATH_TO_TEST_LABELS, sep=';', dtype=str) "
   ]
  },
  {
   "cell_type": "code",
   "execution_count": 10,
   "metadata": {},
   "outputs": [],
   "source": [
    "pd_test_data = pd_test_data[['Filename', 'ClassId']]\n",
    "# nur zwei Klassen\n",
    "pd_test_data_0_39 = pd_test_data.loc[pd_test_data['ClassId'].isin(['0', '39'])]"
   ]
  },
  {
   "cell_type": "code",
   "execution_count": 11,
   "metadata": {},
   "outputs": [
    {
     "data": {
      "text/html": [
       "<div>\n",
       "<style scoped>\n",
       "    .dataframe tbody tr th:only-of-type {\n",
       "        vertical-align: middle;\n",
       "    }\n",
       "\n",
       "    .dataframe tbody tr th {\n",
       "        vertical-align: top;\n",
       "    }\n",
       "\n",
       "    .dataframe thead th {\n",
       "        text-align: right;\n",
       "    }\n",
       "</style>\n",
       "<table border=\"1\" class=\"dataframe\">\n",
       "  <thead>\n",
       "    <tr style=\"text-align: right;\">\n",
       "      <th></th>\n",
       "      <th>Filename</th>\n",
       "      <th>ClassId</th>\n",
       "    </tr>\n",
       "  </thead>\n",
       "  <tbody>\n",
       "    <tr>\n",
       "      <th>243</th>\n",
       "      <td>00243.ppm</td>\n",
       "      <td>0</td>\n",
       "    </tr>\n",
       "    <tr>\n",
       "      <th>252</th>\n",
       "      <td>00252.ppm</td>\n",
       "      <td>0</td>\n",
       "    </tr>\n",
       "    <tr>\n",
       "      <th>277</th>\n",
       "      <td>00277.ppm</td>\n",
       "      <td>39</td>\n",
       "    </tr>\n",
       "    <tr>\n",
       "      <th>363</th>\n",
       "      <td>00363.ppm</td>\n",
       "      <td>39</td>\n",
       "    </tr>\n",
       "    <tr>\n",
       "      <th>403</th>\n",
       "      <td>00403.ppm</td>\n",
       "      <td>0</td>\n",
       "    </tr>\n",
       "  </tbody>\n",
       "</table>\n",
       "</div>"
      ],
      "text/plain": [
       "      Filename ClassId\n",
       "243  00243.ppm       0\n",
       "252  00252.ppm       0\n",
       "277  00277.ppm      39\n",
       "363  00363.ppm      39\n",
       "403  00403.ppm       0"
      ]
     },
     "execution_count": 11,
     "metadata": {},
     "output_type": "execute_result"
    }
   ],
   "source": [
    "pd_test_data_0_39.head()"
   ]
  },
  {
   "cell_type": "code",
   "execution_count": 12,
   "metadata": {},
   "outputs": [
    {
     "name": "stdout",
     "output_type": "stream",
     "text": [
      "Found 150 validated image filenames belonging to 2 classes.\n"
     ]
    }
   ],
   "source": [
    "test_data = data_gen_test.flow_from_dataframe(pd_test_data_0_39, directory=PATH_TO_TEST_DATA, \n",
    "                                              x_col='Filename',y_col='ClassId',\n",
    "                                              classes=['0', '39'], seed=1,\n",
    "                                              target_size=(64, 64), shuffle=False)"
   ]
  },
  {
   "cell_type": "markdown",
   "metadata": {},
   "source": [
    "## Aufbau des Modells\n",
    "Zum Aufbau deines Modells kannst du dich an die Modellarchitektur des [CIFAR-10 ConvNets](https://keras.io/examples/cifar10_cnn/) richten. "
   ]
  },
  {
   "cell_type": "code",
   "execution_count": 13,
   "metadata": {},
   "outputs": [],
   "source": [
    "model = models.Sequential()\n",
    "model.add(layers.Conv2D(32, (3, 3), padding='same', input_shape=(64, 64, 3)))\n",
    "model.add(layers.Activation('relu'))\n",
    "model.add(layers.Conv2D(32, (3, 3)))\n",
    "model.add(layers.Activation('relu'))\n",
    "model.add(layers.MaxPooling2D(pool_size=(2, 2)))\n",
    "model.add(layers.Dropout(0.25))\n",
    "\n",
    "model.add(layers.Conv2D(64, (3, 3), padding='same'))\n",
    "model.add(layers.Activation('relu'))\n",
    "model.add(layers.Conv2D(64, (3, 3)))\n",
    "model.add(layers.Activation('relu'))\n",
    "model.add(layers.MaxPooling2D(pool_size=(2, 2)))\n",
    "model.add(layers.Dropout(0.25))\n",
    "\n",
    "model.add(layers.Flatten())\n",
    "model.add(layers.Dense(512))\n",
    "model.add(layers.Activation('relu'))\n",
    "model.add(layers.Dropout(0.5))\n",
    "model.add(layers.Dense(NUM_CLASSES))\n",
    "model.add(layers.Activation('softmax'))"
   ]
  },
  {
   "cell_type": "markdown",
   "metadata": {},
   "source": [
    "## Kompilieren des Modells\n",
    "Eine detaillierte Beschreibung der [compile](https://keras.io/api/models/model_training_apis/#compile-method)-Methode findest du in Keras API Referenz."
   ]
  },
  {
   "cell_type": "code",
   "execution_count": 14,
   "metadata": {},
   "outputs": [],
   "source": [
    "# Kompiliere das Modell\n",
    "model.compile(loss='categorical_crossentropy',\n",
    "              optimizer=keras.optimizers.Adam(),\n",
    "              metrics=['accuracy'])"
   ]
  },
  {
   "cell_type": "markdown",
   "metadata": {},
   "source": [
    "## Training des Modells\n",
    "Eine detaillierte Beschreibung der [fit](https://keras.io/api/models/model_training_apis/#fit-method)-Methode findest du in Keras API Referenz."
   ]
  },
  {
   "cell_type": "code",
   "execution_count": 15,
   "metadata": {},
   "outputs": [
    {
     "name": "stdout",
     "output_type": "stream",
     "text": [
      "WARNING:tensorflow:sample_weight modes were coerced from\n",
      "  ...\n",
      "    to  \n",
      "  ['...']\n",
      "WARNING:tensorflow:sample_weight modes were coerced from\n",
      "  ...\n",
      "    to  \n",
      "  ['...']\n",
      "Train for 7 steps, validate for 2 steps\n",
      "Epoch 1/5\n",
      "7/7 [==============================] - 60s 9s/step - loss: 0.6649 - accuracy: 0.7328 - val_loss: 0.3472 - val_accuracy: 0.9804\n",
      "Epoch 2/5\n",
      "7/7 [==============================] - 45s 6s/step - loss: 0.0843 - accuracy: 1.0000 - val_loss: 0.0024 - val_accuracy: 1.0000\n",
      "Epoch 3/5\n",
      "7/7 [==============================] - 38s 5s/step - loss: 0.0025 - accuracy: 1.0000 - val_loss: 2.2587e-07 - val_accuracy: 1.0000\n",
      "Epoch 4/5\n",
      "7/7 [==============================] - 37s 5s/step - loss: 0.0021 - accuracy: 1.0000 - val_loss: 2.8136e-08 - val_accuracy: 1.0000\n",
      "Epoch 5/5\n",
      "7/7 [==============================] - 42s 6s/step - loss: 0.0335 - accuracy: 0.9902 - val_loss: 0.0024 - val_accuracy: 1.0000\n"
     ]
    }
   ],
   "source": [
    "history = model.fit(train_data, epochs=5, validation_data=valid_data)\n",
    "# Die Warnung kannst du ignorieren."
   ]
  },
  {
   "cell_type": "code",
   "execution_count": 16,
   "metadata": {},
   "outputs": [
    {
     "data": {
      "text/plain": [
       "{'loss': [0.6844388895175036,\n",
       "  0.07752976844123766,\n",
       "  0.002722420224659693,\n",
       "  0.002286339222622451,\n",
       "  0.03629595532513398],\n",
       " 'accuracy': [0.73284316, 1.0, 1.0, 1.0, 0.99019605],\n",
       " 'val_loss': [0.347248375415802,\n",
       "  0.002423337777145207,\n",
       "  2.2587000714224814e-07,\n",
       "  2.813573818372106e-08,\n",
       "  0.0024444700102321804],\n",
       " 'val_accuracy': [0.98039216, 1.0, 1.0, 1.0, 1.0]}"
      ]
     },
     "execution_count": 16,
     "metadata": {},
     "output_type": "execute_result"
    }
   ],
   "source": [
    "history.history"
   ]
  },
  {
   "cell_type": "markdown",
   "metadata": {},
   "source": [
    "## Evaluation des Modells\n",
    "Eine detaillierte Beschreibung der [evaluate](https://keras.io/api/models/model_training_apis/#evaluate-method)-Methode findest du in Keras API Referenz.\n",
    "\n",
    "Nach der Anwendung der *evaluate*-Methode kannst du dir zusätzlich den ausfuehrlichen Klassifikationsbericht (*classification_report()*) sowie die Konfusionsmatrix (*confusion_matrix()*) anschauen.  "
   ]
  },
  {
   "cell_type": "code",
   "execution_count": 17,
   "metadata": {},
   "outputs": [
    {
     "name": "stdout",
     "output_type": "stream",
     "text": [
      "WARNING:tensorflow:sample_weight modes were coerced from\n",
      "  ...\n",
      "    to  \n",
      "  ['...']\n",
      "5/5 [==============================] - 4s 754ms/step - loss: 3.9670e-05 - accuracy: 1.0000\n"
     ]
    }
   ],
   "source": [
    "results = model.evaluate(test_data)\n",
    "# Die Warnung kannst du ignorieren."
   ]
  },
  {
   "cell_type": "code",
   "execution_count": 18,
   "metadata": {},
   "outputs": [
    {
     "name": "stdout",
     "output_type": "stream",
     "text": [
      "[3.966986755585822e-05, 1.0]\n"
     ]
    }
   ],
   "source": [
    "print(results)"
   ]
  },
  {
   "cell_type": "markdown",
   "metadata": {},
   "source": [
    "## Speichern des trainierten Modells\n",
    "Zum Speichern des trainierten Modells kann *save*-Methode\n",
    "Weiterfuehrende Informationen zu dieser Methode unter folgendem [Link](https://keras.io/api/models/model_saving_apis/) zu finden. "
   ]
  },
  {
   "cell_type": "code",
   "execution_count": 19,
   "metadata": {},
   "outputs": [],
   "source": [
    "# Speichere das trainierte Modell, um dessen Wiederverwendung zu ermoeglichen\n",
    "model.save(FILEPATH)"
   ]
  },
  {
   "cell_type": "markdown",
   "metadata": {},
   "source": [
    "## Nutzen des trainierten Modells zum Vorhersagen von Verkehrszeichen-Klassen \n",
    "Zum Wiederverwenden des trainierten gespeicherten Modells kann die [load_model](https://keras.io/api/models/model_saving_apis/#loadmodel-function)-Funktion verwendet werden.\n",
    "\n",
    "Eine detaillierte Beschreibung der [predict](https://keras.io/api/models/model_training_apis/#predict-method)-Methode findest du in Keras API Referenz. Diese Methodeist nur fuer Sequential-Modelle verfuegbar.\n",
    "\n",
    "An dieser Stelle werden die gleichen Bilder verwendet, die fuer die Evaluation des Modells verwendet wurden."
   ]
  },
  {
   "cell_type": "code",
   "execution_count": 20,
   "metadata": {},
   "outputs": [],
   "source": [
    "# Lade das trainierte Modell und teste die Erkennung der Verkehrszeichen-Klassen mit eigenen Beispielen\n",
    "saved_model = models.load_model(FILEPATH)"
   ]
  },
  {
   "cell_type": "code",
   "execution_count": 21,
   "metadata": {},
   "outputs": [],
   "source": [
    "def load_test_data():\n",
    "    '''\n",
    "    laedt Testbilder in Numpy Array\n",
    "    '''\n",
    "    img_data_list = []\n",
    "    pd_test_data = pd.read_csv(PATH_TO_TEST_LABELS, sep=';', dtype=str)\n",
    "    pd_test_data = pd_test_data[['Filename', 'ClassId']]\n",
    "    \n",
    "    # Zwei Klassen\n",
    "    pd_test_data_0_39 = pd_test_data.loc[pd_test_data['ClassId'].isin(['0', '39'])]\n",
    "    y_true = np.array(list(pd_test_data_0_39['ClassId']))\n",
    "    \n",
    "    # filenames_list\n",
    "    filenames_list = list(pd_test_data_0_39['Filename'])\n",
    "    for filename in filenames_list:\n",
    "        filepath = os.path.join(PATH_TO_TEST_DATA, filename)\n",
    "        assert os.path.exists(filepath), \"Der filepath existriert nicht.\"\n",
    "        \n",
    "        img = load_img(filepath, target_size=(64,64))\n",
    "        input_arr = img_to_array(img)\n",
    "        img_data_list.append(input_arr)\n",
    "    input_arr = np.array(img_data_list)\n",
    "    \n",
    "    # rescale-Operation\n",
    "    img_data = input_arr.astype(np.float32)*1./255\n",
    "    return y_true, img_data"
   ]
  },
  {
   "cell_type": "code",
   "execution_count": 22,
   "metadata": {},
   "outputs": [],
   "source": [
    "# ClassIds im y_test-Array sind als Strings abgelegt: '0' und '39'\n",
    "y_test, x_test = load_test_data()"
   ]
  },
  {
   "cell_type": "code",
   "execution_count": 23,
   "metadata": {},
   "outputs": [],
   "source": [
    "# ClassIds im y_test-Array sind als Integers abgelegt: 0 und 1\n",
    "predicted_classes = saved_model.predict_classes(x_test)"
   ]
  },
  {
   "cell_type": "code",
   "execution_count": 24,
   "metadata": {},
   "outputs": [],
   "source": [
    "# Mapping der ClassIds\n",
    "predicted_classes[predicted_classes == 1] = 39"
   ]
  },
  {
   "cell_type": "code",
   "execution_count": null,
   "metadata": {},
   "outputs": [],
   "source": []
  },
  {
   "cell_type": "code",
   "execution_count": 25,
   "metadata": {},
   "outputs": [
    {
     "name": "stdout",
     "output_type": "stream",
     "text": [
      "              precision    recall  f1-score   support\n",
      "\n",
      "           0       1.00      1.00      1.00        60\n",
      "          39       1.00      1.00      1.00        90\n",
      "\n",
      "    accuracy                           1.00       150\n",
      "   macro avg       1.00      1.00      1.00       150\n",
      "weighted avg       1.00      1.00      1.00       150\n",
      "\n"
     ]
    }
   ],
   "source": [
    "# Evaluiere das trainierte Modell mit den Testdaten\n",
    "print(classification_report(y_true=y_test, y_pred=predicted_classes.astype(str), target_names=['0', '39']))"
   ]
  },
  {
   "cell_type": "code",
   "execution_count": 27,
   "metadata": {},
   "outputs": [],
   "source": [
    "# confusion_matrix\n",
    "cm = confusion_matrix(y_true=y_test, y_pred=predicted_classes.astype(str))"
   ]
  },
  {
   "cell_type": "code",
   "execution_count": 31,
   "metadata": {},
   "outputs": [
    {
     "data": {
      "image/png": "[encoded data removed]",
      "text/plain": [
       "<Figure size 432x288 with 2 Axes>"
      ]
     },
     "metadata": {
      "needs_background": "light"
     },
     "output_type": "display_data"
    }
   ],
   "source": [
    "def plot_confusion_matrix(conf_matr, labels):\n",
    "    \n",
    "    plt.figure(figsize=(6,4))   \n",
    "    plt.imshow(conf_matr, interpolation='nearest')\n",
    "    plt.tight_layout()\n",
    "    plt.colorbar()\n",
    "    tick_marks = np.arange(NUM_CLASSES)\n",
    "    plt.xticks(tick_marks, ['0', '39'])\n",
    "    plt.yticks(tick_marks, tuple(labels))\n",
    "    plt.xlabel('Predicted label')\n",
    "    plt.ylabel('True label')\n",
    "\n",
    "plot_confusion_matrix(cm, ['0 - speed limit 20', '39 - keep left'])"
   ]
  },
  {
   "cell_type": "code",
   "execution_count": null,
   "metadata": {},
   "outputs": [],
   "source": [
    "# TO DO: \n",
    "# Modell fuer alle Klassen erweitern. Zur Optimierung der Ergebnisse andere Optimierer ausprobieren,\n",
    "# Modellarchitektur variieren ...\n",
    "# Optional: Google Colab einrichten und zum Training nutzen"
   ]
  }
 ],
 "metadata": {
  "kernelspec": {
   "display_name": "Python 3",
   "language": "python",
   "name": "python3"
  },
  "language_info": {
   "codemirror_mode": {
    "name": "ipython",
    "version": 3
   },
   "file_extension": ".py",
   "mimetype": "text/x-python",
   "name": "python",
   "nbconvert_exporter": "python",
   "pygments_lexer": "ipython3",
   "version": "3.7.7"
  }
 },
 "nbformat": 4,
 "nbformat_minor": 4
}
