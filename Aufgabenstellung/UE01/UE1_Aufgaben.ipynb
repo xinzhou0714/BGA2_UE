{
 "cells": [
  {
   "cell_type": "markdown",
   "metadata": {},
   "source": [
    "# Übung 1 Einlesen und Anzeigen der Datensätze"
   ]
  },
  {
   "cell_type": "markdown",
   "metadata": {},
   "source": [
    "**German Traffic Sign Detection Benchmark**\n",
    "\n",
    "Detallierte Beschreibung des Datensatzes siehe unter folgendem [Link](http://benchmark.ini.rub.de/?section=gtsdb&subsection=news)"
   ]
  },
  {
   "cell_type": "markdown",
   "metadata": {},
   "source": [
    "## Imports"
   ]
  },
  {
   "cell_type": "code",
   "execution_count": null,
   "metadata": {},
   "outputs": [],
   "source": [
    "# Die folgenden Anweisungen müssen nur ein mal ausgeführt werden\n",
    "!pip install -U -q ipywidgets\n",
    "!jupyter nbextension enable --py widgetsnbextension"
   ]
  },
  {
   "cell_type": "code",
   "execution_count": null,
   "metadata": {},
   "outputs": [],
   "source": [
    "import os\n",
    "\n",
    "import csv\n",
    "import wget\n",
    "import cv2\n",
    "import numpy as np\n",
    "import pandas as pd\n",
    "import matplotlib.pyplot as plt\n",
    "from IPython.display import display\n",
    "from ipywidgets import interact, interactive, fixed, interact_manual, widgets"
   ]
  },
  {
   "cell_type": "code",
   "execution_count": null,
   "metadata": {},
   "outputs": [],
   "source": [
    "# Testfunktion für ipywidgets: \n",
    "# Es soll ein Slider angezeigt werden. Der Wertebereich des Sliders\n",
    "# soll zwischen -10(min) und 30(max) liegen. \n",
    "# Entsprechend der Sliderposition soll ein Ergebniswert angezeigt werden.\n",
    "def f(x):\n",
    "    return 3 * x\n",
    "interact(f, x= 10);"
   ]
  },
  {
   "cell_type": "markdown",
   "metadata": {},
   "source": [
    "## Verwendete  Module / Funktionen"
   ]
  },
  {
   "cell_type": "markdown",
   "metadata": {},
   "source": [
    "Mache dich mit der Funktionsweise foldender Module / Funktionen vertraut.\n",
    "Sie können zur Lösung der Aufgaben eingesetzt werden.\n",
    "- os.path\n",
    "- os.listdir\n",
    "- [csv.reader](https://docs.python.org/3/library/csv.html)\n",
    "- string.split\n",
    "- np.unique\n",
    "- list.append\n",
    "- plt.imread\n",
    "- plt.imshow\n",
    "- plt.show\n",
    "- dict\n",
    "- zip\n",
    "- dict(zip())\n",
    "- sorted\n",
    "- cv2.rectangle\n",
    "- cv2.putText\n",
    "- dict.keys\n",
    "- dict.values\n",
    "- enumerate\n",
    "- range\n",
    "- interact"
   ]
  },
  {
   "cell_type": "markdown",
   "metadata": {},
   "source": [
    "## Aufgabe 1 – Einlesen der \"Ground Truth\"-Textdatei"
   ]
  },
  {
   "cell_type": "markdown",
   "metadata": {},
   "source": [
    "### Aufgabe 1.a\n",
    "Lade den Datensatz herunter und entpacke ihn.\n",
    "Unter folgendem [Link](https://sid.erda.dk/public/archives/ff17dc924eba88d5d01a807357d6614c/published-archive.html) kannst du die Kurzbeschreibung des Datensatzes einsehen."
   ]
  },
  {
   "cell_type": "code",
   "execution_count": null,
   "metadata": {},
   "outputs": [],
   "source": [
    "# Es wird ein Weilchen dauern die Daten herunterzuladen (1,54GB)\n",
    "# Nach dem erfolgreichen Herunterladen kann dieser Block auskommentiert werden\n",
    "url = \"https://sid.erda.dk/public/archives/ff17dc924eba88d5d01a807357d6614c/FullIJCNN2013.zip\"\n",
    "wget.download(url)"
   ]
  },
  {
   "cell_type": "code",
   "execution_count": null,
   "metadata": {},
   "outputs": [],
   "source": [
    "# Definiere den Pfad zum heruntergeladenen Datenordner\n",
    "path_to_data = \n",
    "# Prüfe, ob der Pfad existiert / korrekt eingegeben wurde\n",
    "assert os.path.exists(path_to_data), \"Der angegebene Pfad existriert nicht.\""
   ]
  },
  {
   "cell_type": "code",
   "execution_count": null,
   "metadata": {},
   "outputs": [],
   "source": [
    "# Um hartcodierte Namen in den Funktionen zu vermeiden, definiere an dieser Stelle \n",
    "# alle Variablen, die als Eingabeparameter der Funktionen verwendet werden\n",
    "gt_txt = "
   ]
  },
  {
   "cell_type": "markdown",
   "metadata": {},
   "source": [
    "### Aufgabe 1.c\n",
    "Ermittle die Namen und die Anzahl der Bilder, die in der \"Ground Truth\"-Textdatei gt.txt nicht annotiert wurden.\n",
    "\n",
    "Nützliche Funktionen:\n",
    "- os.path\n",
    "- [csv.reader](https://docs.python.org/3/library/csv.html)\n",
    "- string.split\n",
    "- len\n",
    "- np.unique\n",
    "- list.append\n",
    "- range"
   ]
  },
  {
   "cell_type": "code",
   "execution_count": null,
   "metadata": {},
   "outputs": [],
   "source": [
    "def list_not_annotated_images(path_to_data_folder, gt_txt_file):\n",
    "    \"\"\"\n",
    "        Liest Verkehrszeichendaten des German Traffic Sign Detection Benchmarks\n",
    "        Argumente: Pfad zum heruntergeladenen Datenordner, gt.txt-Datei\n",
    "        Rückgabe:  Liste mit den Namen der Bilder, die nicht annotiert wurden, \n",
    "                   Anzahl nicht annotierter Bilder\n",
    "    \"\"\"\n",
    "    ###   TO DO   ###\n",
    "    # Definiere den Pfad zur gt.txt\n",
    "    txt_filepath = \n",
    "    \n",
    "    assert os.path.exists(txt_filepath), \"Der angegebene Pfad existriert nicht.\"\n",
    "    \n",
    "    # Definiere eine leere Liste für Bildnamen\n",
    "    list_img_names = \n",
    "    \n",
    "    # Öffne die gt.txt-Datei\n",
    "    with open(txt_filepath, newline='') as csvfile:\n",
    "        gt_reader = \n",
    "        \n",
    "        # Bau eine Schleife, um die Daten Zeile für Zeile einzulesen und list_img_names zu füllen\n",
    "        for row in gt_reader:\n",
    "            ...\n",
    "            \n",
    "    # Entferne doppelte Einträge aus der Liste \n",
    "    list_img_names = \n",
    "    \n",
    "    # Ermittle, welche Bildnamen fehlen und mache daraus eine Liste \n",
    "    list_missing_names = \n",
    "    \n",
    "    # Ermittle die Anzahl der fehlenden Bildnamen\n",
    "    number_missing_img = \n",
    "    \n",
    "    # Gebe folgendes aus: \"In total XYZ images in the data folder are not annotated.\"\n",
    "    # Anstelle von XYZ soll die Anzahl der nicht annotierten Bilder ausgegeben werden\n",
    "    print()\n",
    "    \n",
    "    return list_missing_names, number_missing_img"
   ]
  },
  {
   "cell_type": "code",
   "execution_count": null,
   "metadata": {},
   "outputs": [],
   "source": [
    "# Rufe die Funktion aus und prüfe, ob alles wie erwartet funktioniert\n",
    "missing_img_list, missing_img_number = list_not_annotated_images(path_to_data, gt_txt)"
   ]
  },
  {
   "cell_type": "markdown",
   "metadata": {},
   "source": [
    "### Aufgabe 1.d\n",
    "Schreibe eine Funktion, die die gt.txt-Datei einliest und drei Listen zurückgibt:\n",
    "- die Liste mit relativen Bildpfaden (strings),\n",
    "- die Liste mit ClassIDs (integers)\n",
    "- die Liste mit ROI-Koordinaten (integers)\n",
    "\n",
    "Einzelne Schritte kannst du aus list_not_annotated_images-Funktion übernehmen."
   ]
  },
  {
   "cell_type": "code",
   "execution_count": null,
   "metadata": {},
   "outputs": [],
   "source": [
    "def read_txt(path_to_data_folder, gt_txt_file):\n",
    "    \"\"\"\n",
    "        Liest Verkehrszeichendaten des German Traffic Sign Detection Benchmarks\n",
    "        Argumente: Pfad zum heruntergeladenen Datenordner\n",
    "        Rückgabe:  Liste mit relativen Bildpfaden, Liste mit ClassIDs, Liste mit ROI-Koordinaten\n",
    "    \"\"\"\n",
    "    ###   TO DO   ###\n",
    "    # Definiere den Pfad zur gt.txt\n",
    "    txt_filepath = \n",
    "    \n",
    "    # Prüfe, ob der Pfad existiert / korrekt eingegeben wurde\n",
    "    assert os.path.exists(txt_filepath), \"Der angegebene Pfad existriert nicht.\"\n",
    "    \n",
    "    # Definiere leere Listen\n",
    "    # Liste für Bildpfade\n",
    "    img_paths_list = \n",
    "    \n",
    "    # Liste für Class_IDs\n",
    "    class_ids_list =\n",
    "    \n",
    "    # Liste für ROIs\n",
    "    rois_list = \n",
    "    \n",
    "    # Öffne die gt.txt-Datei und ergänze den Code, um die entsprechenden Listen zu füllen\n",
    "    with open(txt_filepath, newline='') as csvfile:\n",
    "        gt_reader = \n",
    "        \n",
    "        for row in gt_reader:\n",
    "            ...\n",
    "                                  \n",
    "    return img_paths_list, class_ids_list, rois_list"
   ]
  },
  {
   "cell_type": "code",
   "execution_count": null,
   "metadata": {},
   "outputs": [],
   "source": [
    "ppm_file_paths, class_ids, rois = read_txt(path_to_data, gt_txt)"
   ]
  },
  {
   "cell_type": "code",
   "execution_count": null,
   "metadata": {},
   "outputs": [],
   "source": [
    "# Teste, ob die Bilder sich anzeigen lassen\n",
    "# Nutze hier die Listen ppm_filenames, class_ids, die du mit read_txt berechnet hast\n",
    "img = plt.imread(ppm_file_paths[100])\n",
    "print(\"Bildgröße\", img.shape)\n",
    "print(\"Class ID: \", class_ids[100])\n",
    "plt.imshow(img)\n",
    "plt.show()"
   ]
  },
  {
   "cell_type": "markdown",
   "metadata": {},
   "source": [
    "## Aufgabe 2 – Mapping ClassID – Bezeichnung der Verkehrsschilder\n",
    "Generiere eine csv-Mapping-Datei aus ReadMe.txt. Nutze dafür alle dir zur Verfügung stehenden Mittel. Python Code ist für diese Aufgabe kein Muss. Die Datei soll das Mapping von Zahl zur Verkehrszeichenbezeichnung enthalten.\n",
    "Schreibe eine Funktion, die zwei Rückgabewerte zurückgibt:\n",
    "- pandas-DataFrame aus der generierten csv-Datei und\n",
    "- eine Dictionary (dict) mit ClassIDs als *keys* und Verkehrsschilderbezeichnungen als *values*.\n",
    "\n",
    "Nützliche Module / Funktionen:\n",
    "- pd.read_csv\n",
    "- os.path\n",
    "- dict(zip())"
   ]
  },
  {
   "cell_type": "code",
   "execution_count": null,
   "metadata": {},
   "outputs": [],
   "source": [
    "###   TO DO   ###\n",
    "# Generiere eine csv-Mapping-Datei und lege sie in den Datenordner ab\n",
    "# Definiere die Variable csv_mapping, z.B.: 'tf_signs_mapping.csv' (entspricht dem Namen der generierten Datei)\n",
    "csv_mapping = "
   ]
  },
  {
   "cell_type": "code",
   "execution_count": null,
   "metadata": {},
   "outputs": [],
   "source": [
    "def map_int_to_sign_name(path_to_data_folder, csv_mapping_file):\n",
    "    \"\"\"\n",
    "    Ordnet int-Zahl dem Schildnamen zu\n",
    "    Argumente: Pfad zum Datenordner, Name der csv-Datei\n",
    "    Rückgabe:  pandas-DataFrame aus der generierten csv-Datei und \n",
    "              eine Dictionary (dict) mit ClassIDs als keys und Traffic Sign Names als values\n",
    "    \"\"\"\n",
    "    \n",
    "    ###   TO DO   ###\n",
    "    csv_path = \n",
    "    \n",
    "    assert os.path.exists(csv_path), \"Der angegebene Pfad existriert nicht.\"\n",
    "    # Lese die csv-Datei als DataFrame ein\n",
    "    df = \n",
    "    \n",
    "    # dict_mapping-Variable soll eine Dictionary (dict) sein, mit ClassIDs als keys und Traffic Sign Names als values\n",
    "    dict_mapping = \n",
    "    \n",
    "    return dict_mapping, df"
   ]
  },
  {
   "cell_type": "code",
   "execution_count": null,
   "metadata": {},
   "outputs": [],
   "source": [
    "dict_mapping, df_map = map_int_to_sign_name(path_to_data, csv_mapping)"
   ]
  },
  {
   "cell_type": "code",
   "execution_count": null,
   "metadata": {},
   "outputs": [],
   "source": [
    "# Übersicht der Klassen\n",
    "df_map.style.hide_index()"
   ]
  },
  {
   "cell_type": "markdown",
   "metadata": {},
   "source": [
    "## Aufgabe 3 – Visualisierung der Verkehrszeichen\n",
    "Schreibe eine Funktion, die ein Bild pro Klasse ausgibt. Verwende dafür die Bilder in den Unterordnern, die \n",
    "bereits nach **ClassID** genannt sind, um die Klassenzuordnung herzustellen. Für das Mapping verwende Variable **dict_mapping**, die in Aufgabe 2 berechnet wurde.\n",
    "\n",
    "Nützliche Module / Funktionen:\n",
    "- interact\n",
    "- os.path\n",
    "- list.append"
   ]
  },
  {
   "cell_type": "code",
   "execution_count": null,
   "metadata": {},
   "outputs": [],
   "source": [
    "def one_image_per_class(path_to_data_folder):\n",
    "    \"\"\"\n",
    "    Gibt eine Liste mit je einem Bildpfad pro Klasse zurück\n",
    "    Argumente: Pfad zum Datenordner\n",
    "    Rückgabe: Liste mit Bildpfaden\n",
    "    \"\"\"\n",
    "    ###   TO DO   ###\n",
    "    # Definiere eine leere Liste für Bildpfade\n",
    "    img_paths = \n",
    "    \n",
    "    # Generiere eine Liste mit den Namen der Unterordner. Python os-Modul kann hier nützlich sein\n",
    "    subfolders_paths = \n",
    "    \n",
    "    # Iteriere über die Unterordner-Pfade und speichere je ein Bildpfad aus den Unterordnern \n",
    "    for path in subfolders_paths:\n",
    "        assert os.path.exists(path), \"Der angegebene Pfad existriert nicht.\"\n",
    "        # Generiere einen gültigen Bildpfad\n",
    "        img_path = \n",
    "        assert os.path.exists(img_path), \"Der angegebene Pfad existriert nicht.\"\n",
    "        \n",
    "        # Füge jeden Bildpfad der Liste img_paths hinzu\n",
    "        ...\n",
    "        \n",
    "    return img_paths"
   ]
  },
  {
   "cell_type": "code",
   "execution_count": null,
   "metadata": {},
   "outputs": [],
   "source": [
    "img_paths_43_classes = one_image_per_class(path_to_data)"
   ]
  },
  {
   "cell_type": "code",
   "execution_count": null,
   "metadata": {},
   "outputs": [],
   "source": [
    "def show_img_tr_sign(idx):\n",
    "    ###   TO DO   ###\n",
    "    # Definiere eine print()- Funktion deren Ausgabe folgende Form hat:\n",
    "    # ClassID XY: dazu passende Bezeichnung\n",
    "    # z.B.: ClassID 25:  construction (danger)\n",
    "    print(...)\n",
    "    \n",
    "    plt.figure(figsize=(6,6))\n",
    "    img = plt.imread(img_paths_43_classes[idx])\n",
    "    plt.imshow(img)\n",
    "    plt.show()"
   ]
  },
  {
   "cell_type": "code",
   "execution_count": null,
   "metadata": {},
   "outputs": [],
   "source": [
    "# Nutze interaktive Anzeige, um die Bilder anzusehen\n",
    "interact(show_img_tr_sign, idx=widgets.IntSlider(min=0,max=len(img_paths_43)-1,step=1, value=0));"
   ]
  },
  {
   "cell_type": "markdown",
   "metadata": {},
   "source": [
    "## Aufgabe 4 – Anzeige der ROIs (Regions of Interest)\n",
    "Schreibe eine Funktion, um innerhalb der angezeigten Bilder die Verkehrsschilder zu markieren. Verwende dafür die Bilder im Hauptordner und die dazugehörige gt.txt. Bedenke, dass jedes Bild nur einmal angezeigt werden soll. \n",
    "\n",
    "Nützliche Module / Funktionen:\n",
    "- dict(zip())\n",
    "- cv2.rectangle\n",
    "- cv2.putText"
   ]
  },
  {
   "cell_type": "code",
   "execution_count": null,
   "metadata": {},
   "outputs": [],
   "source": [
    "def calc_rois(path_to_data_folder, csv_mapping_file, gt_txt_file):\n",
    "    \"\"\"\n",
    "    Zeichnet ROIs und deren Bezeichnungen in die Bilder ein\n",
    "    Argumente: Pfad zum heruntergeladenen Datenordner, Dateinamen\n",
    "    Rückgabe:  Liste mit Bildern \n",
    "    \"\"\"\n",
    "    # Die Funktionen map_int_to_sign_name und read_txt sollten bereits implementiert sein  \n",
    "    map_tr_sing_int, df_map = map_int_to_sign_name(path_to_data_folder, csv_mapping_file)\n",
    "    ppm_filenames, class_ids, rois = read_txt(path_to_data_folder, gt_txt_file) \n",
    "    \n",
    "    ###   TO DO   ###\n",
    "    # Definiere eine leere Liste für die Speicherung von Bildern\n",
    "    data = \n",
    "    # Definiere ein leeres Dictionary\n",
    "    data_dict =\n",
    "    \n",
    "    curr_path = \"\"\n",
    "    img = None\n",
    "    counter_identical_path = 0\n",
    "    # Bevor du weitermachst, versuche zu verstehen, was in if- und else-Blöcken der Schleife passiert\n",
    "    for idx, file_path in enumerate(ppm_filenames):\n",
    "        if curr_path != file_path: \n",
    "            curr_path = file_path\n",
    "            # Lese ein Bild ein\n",
    "            img = plt.imread(file_path)\n",
    "            counter_identical_path = 1\n",
    "            # Definiere Koordinaten für die Positionierung des Textfeldes mit Beschreibung des Verkehrszeichens\n",
    "            initial_x_coordinate = \n",
    "            initial_y_coordinate = \n",
    "            # Bei dieser Variable handelt es sich um org-Parameter der cv2.putText\n",
    "            org_id_meaning = (initial_x_coordinate, initial_y_coordinate)\n",
    "        else:\n",
    "            counter_identical_path += 1\n",
    "            # Passe die x-Koordinate für jedes weitere Verkehrszeichen an\n",
    "            # Folgende Zeilen sind eventuell optional \n",
    "            # Es hängt davon ab, wo du die Bezeichnung positionierst \n",
    "            initial_y_coordinate =\n",
    "            org_id_meaning = (initial_x_coordinate, initial_y_coordinate)\n",
    "        \n",
    "        # Berechne Koordinaten des Rechtecks, benutze dafür die Variable rois\n",
    "        point1 = \n",
    "        point2 = \n",
    "        \n",
    "        # Zeichne das Rechteck mit Hilfe der berechneten Koordinaten in das Bild (cv2.rectangle) ein\n",
    "        img = \n",
    "        \n",
    "        # Ermittle Koordinaten für das Textfeld\n",
    "        org = (rois[idx][2] + 10, rois[idx][1] + 20)\n",
    "        # Speichere Verkehrszeichen-ID als string\n",
    "        text = \n",
    "        # Nutze cv2.putText um die Verkehrszeichen-ID neben dem entsprechenden Verkehrszeichen zu positionieren\n",
    "        img = \n",
    "        # Speichere Verkehrszeichen-ID mit der dazugehörigen Bezeichnung als string\n",
    "        text_id_meaning = \n",
    "        # Nutze cv2.putText um text_id_meaning im Bild zu positionieren\n",
    "        img = \n",
    "        # Füge jedes Bild der data-Liste hinzu\n",
    "        ...\n",
    "    \n",
    "    # Benutze die Verkettung dict(zip()). Die Dictionary soll Pfadnamen als keys und Bilder als Dictionaries enthalten \n",
    "    data_dict = \n",
    "    # Schpeichere die Bilder aus data_dict in die Liste\n",
    "    data_list = \n",
    "    \n",
    "    return data_list"
   ]
  },
  {
   "cell_type": "code",
   "execution_count": null,
   "metadata": {},
   "outputs": [],
   "source": [
    "data = calc_rois(path_to_data, csv_mapping, gt_txt)                                     "
   ]
  },
  {
   "cell_type": "code",
   "execution_count": null,
   "metadata": {},
   "outputs": [],
   "source": [
    "def show_img(idx):\n",
    "    '''\n",
    "    Helper-Funktion, die als erstes Parameter bei interact eingesetzt wird\n",
    "    '''\n",
    "    plt.figure(figsize=(16,8))\n",
    "    plt.imshow(data[idx])\n",
    "    plt.show()"
   ]
  },
  {
   "cell_type": "code",
   "execution_count": null,
   "metadata": {},
   "outputs": [],
   "source": [
    "interact(show_img, idx=widgets.IntSlider(min=0,max=len(data),step=1, value=0));"
   ]
  },
  {
   "cell_type": "markdown",
   "metadata": {},
   "source": [
    "## GESCHAFFT !!!"
   ]
  },
  {
   "cell_type": "code",
   "execution_count": null,
   "metadata": {},
   "outputs": [],
   "source": []
  }
 ],
 "metadata": {
  "kernelspec": {
   "display_name": "Python 3",
   "language": "python",
   "name": "python3"
  },
  "language_info": {
   "codemirror_mode": {
    "name": "ipython",
    "version": 3
   },
   "file_extension": ".py",
   "mimetype": "text/x-python",
   "name": "python",
   "nbconvert_exporter": "python",
   "pygments_lexer": "ipython3",
   "version": "3.7.7"
  }
 },
 "nbformat": 4,
 "nbformat_minor": 4
}
